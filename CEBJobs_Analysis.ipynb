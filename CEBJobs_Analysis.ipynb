{
 "cells": [
  {
   "cell_type": "markdown",
   "metadata": {},
   "source": [
    "# CEBJobs Cloud Analysis\n",
    "### 1 . Count of JobId by Cloud (Pie Chart)"
   ]
  },
  {
   "cell_type": "code",
   "execution_count": 20,
   "metadata": {},
   "outputs": [
    {
     "name": "stdout",
     "output_type": "stream",
     "text": [
      "<pyodbc.Connection object at 0x000001BE637161C0>\n"
     ]
    }
   ],
   "source": [
    "# Prepare data, connection data from MSSQL database CIA-SH-05\n",
    "\n",
    "import pyodbc\n",
    "conn = pyodbc.connect(\n",
    "     r'DRIVER={ODBC Driver 13 for SQL Server};' +\n",
    "     ('SERVER={server},{port};'   +\n",
    "      'DATABASE={database};'      +\n",
    "      'UID={username};'           +\n",
    "      'PWD={password}').format(\n",
    "             server= 'CIA-SH-05',\n",
    "               port= 1433,\n",
    "           database= 'CEBJobs',\n",
    "           username= 'Test1',\n",
    "           password= 'Password03!')\n",
    " )\n",
    "print(conn)"
   ]
  },
  {
   "cell_type": "code",
   "execution_count": 32,
   "metadata": {},
   "outputs": [
    {
     "name": "stdout",
     "output_type": "stream",
     "text": [
      "['AWS', 'Azure', 'GCP']\n",
      "[688240, 425040, 147045]\n"
     ]
    }
   ],
   "source": [
    "cursor = conn.cursor() \n",
    "SQLCommand = ('select b.Cloud,count(distinct a.JobId) from dbo.FactJobsTechStack a ' +\n",
    "'join [dbo].[LookUpEntityServiceCloud] b ' +\n",
    "'on a.EntityID= b.EntityID ' +\n",
    "'group by b.Cloud') \n",
    "labels = []\n",
    "values = []\n",
    "results = cursor.execute(SQLCommand)\n",
    "for r in results:\n",
    "    labels.append(r[0])\n",
    "    values.append(r[1])\n",
    "print(labels)\n",
    "print(values)\n"
   ]
  },
  {
   "cell_type": "code",
   "execution_count": 37,
   "metadata": {},
   "outputs": [
    {
     "name": "stdout",
     "output_type": "stream",
     "text": [
      "['AWS', 'Azure', 'GCP']\n",
      "[688240, 425040, 147045]\n"
     ]
    },
    {
     "data": {
      "text/html": [
       "<iframe id=\"igraph\" scrolling=\"no\" style=\"border:none;\" seamless=\"seamless\" src=\"https://plot.ly/~simon_lxd/14.embed\" height=\"525px\" width=\"100%\"></iframe>"
      ],
      "text/plain": [
       "<plotly.tools.PlotlyDisplay object>"
      ]
     },
     "execution_count": 37,
     "metadata": {},
     "output_type": "execute_result"
    }
   ],
   "source": [
    "import plotly.plotly as py\n",
    "import plotly.graph_objs as go\n",
    "print(labels)\n",
    "print(values)\n",
    "trace = go.Pie(labels=labels, values=values)\n",
    "\n",
    "py.iplot([trace], filename='basic_pie_chart')"
   ]
  },
  {
   "cell_type": "markdown",
   "metadata": {},
   "source": [
    "# The proportion of CEBJobs Cloud (Last Updated)\n",
    "\n",
    "\n",
    "\n",
    "\n",
    "\n",
    "\n",
    "## Table Visualization"
   ]
  },
  {
   "cell_type": "code",
   "execution_count": 38,
   "metadata": {},
   "outputs": [
    {
     "data": {
      "text/html": [
       "<iframe id=\"igraph\" scrolling=\"no\" style=\"border:none;\" seamless=\"seamless\" src=\"https://plot.ly/~simon_lxd/17.embed\" height=\"525px\" width=\"100%\"></iframe>"
      ],
      "text/plain": [
       "<plotly.tools.PlotlyDisplay object>"
      ]
     },
     "execution_count": 38,
     "metadata": {},
     "output_type": "execute_result"
    }
   ],
   "source": [
    "trace = go.Table(\n",
    "    header=dict(values=['Cloud', 'Value']),\n",
    "    cells=dict(values=[labels,\n",
    "                       values]))\n",
    "\n",
    "data = [trace] \n",
    "py.iplot(data, filename = 'basic_table')\n"
   ]
  },
  {
   "cell_type": "markdown",
   "metadata": {},
   "source": [
    " ## Bar chart Visualization"
   ]
  },
  {
   "cell_type": "code",
   "execution_count": 39,
   "metadata": {},
   "outputs": [
    {
     "name": "stdout",
     "output_type": "stream",
     "text": [
      "High five! You successfully sent some data to your account on plotly. View your plot in your browser at https://plot.ly/~simon_lxd/0 or inside your plot.ly account where it is named 'basic-bar'\n"
     ]
    },
    {
     "data": {
      "text/html": [
       "<iframe id=\"igraph\" scrolling=\"no\" style=\"border:none;\" seamless=\"seamless\" src=\"https://plot.ly/~simon_lxd/0.embed\" height=\"525px\" width=\"100%\"></iframe>"
      ],
      "text/plain": [
       "<plotly.tools.PlotlyDisplay object>"
      ]
     },
     "execution_count": 39,
     "metadata": {},
     "output_type": "execute_result"
    }
   ],
   "source": [
    "data = [go.Bar(\n",
    "            x=labels,\n",
    "            y=values\n",
    "    )]\n",
    "\n",
    "py.iplot(data, filename='basic-bar')"
   ]
  },
  {
   "cell_type": "code",
   "execution_count": null,
   "metadata": {},
   "outputs": [],
   "source": []
  }
 ],
 "metadata": {
  "kernelspec": {
   "display_name": "Python 3",
   "language": "python",
   "name": "python3"
  },
  "language_info": {
   "codemirror_mode": {
    "name": "ipython",
    "version": 3
   },
   "file_extension": ".py",
   "mimetype": "text/x-python",
   "name": "python",
   "nbconvert_exporter": "python",
   "pygments_lexer": "ipython3",
   "version": "3.6.4"
  }
 },
 "nbformat": 4,
 "nbformat_minor": 2
}
